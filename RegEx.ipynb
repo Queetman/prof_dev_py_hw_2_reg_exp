{
  "cells": [
    {
      "cell_type": "code",
      "execution_count": 186,
      "id": "d610d709",
      "metadata": {
        "id": "d610d709",
        "outputId": "48adec00-9868-4b27-bd4a-b5c4951eb152",
        "colab": {
          "base_uri": "https://localhost:8080/"
        }
      },
      "outputs": [
        {
          "output_type": "stream",
          "name": "stdout",
          "text": [
            "[['lastname',\n",
            "  'firstname',\n",
            "  'surname',\n",
            "  'organization',\n",
            "  'position',\n",
            "  'phone',\n",
            "  'email'],\n",
            " ['Усольцев Олег Валентинович',\n",
            "  '',\n",
            "  '',\n",
            "  'ФНС',\n",
            "  'главный специалист – эксперт отдела взаимодействия с федеральными органами '\n",
            "  'власти Управления налогообложения имущества и доходов физических лиц',\n",
            "  '+7 (495) 913-04-78',\n",
            "  'opendata@nalog.ru'],\n",
            " ['Мартиняхин Виталий Геннадьевич', '', '', 'ФНС', '', '+74959130037', ''],\n",
            " ['Наркаев', 'Вячеслав Рифхатович', '', 'ФНС', '', '8 495-913-0168', ''],\n",
            " ['Мартиняхин',\n",
            "  'Виталий',\n",
            "  'Геннадьевич',\n",
            "  'ФНС',\n",
            "  'cоветник отдела Интернет проектов Управления информационных технологий',\n",
            "  '',\n",
            "  ''],\n",
            " ['Лукина Ольга',\n",
            "  '',\n",
            "  'Владимировна',\n",
            "  'Минфин',\n",
            "  '',\n",
            "  '+7 (495) 983-36-99 доб. 2926',\n",
            "  'Olga.Lukina@minfin.ru'],\n",
            " ['Паньшин Алексей Владимирович',\n",
            "  '',\n",
            "  '',\n",
            "  'Минфин',\n",
            "  '',\n",
            "  '8(495)748-49-73',\n",
            "  '1248@minfin.ru'],\n",
            " ['Лагунцов Иван Алексеевич',\n",
            "  '',\n",
            "  '',\n",
            "  'Минфин',\n",
            "  '',\n",
            "  '+7 (495) 913-11-11 (доб. 0792)',\n",
            "  ''],\n",
            " ['Лагунцов Иван', '', '', '', '', '', 'Ivan.Laguntcov@minfin.ru'],\n",
            " ['Лукина',\n",
            "  'Оксана',\n",
            "  'Владимировна',\n",
            "  'Минфин',\n",
            "  '',\n",
            "  '+7 (495) 983-36-99 доб. 2929',\n",
            "  'OLukina@minfin.ru']]\n"
          ]
        }
      ],
      "source": [
        "from pprint import pprint\n",
        "# читаем адресную книгу в формате CSV в список contacts_list\n",
        "import csv\n",
        "with open(\"phonebook_raw.csv\", encoding=\"utf-8\") as f:\n",
        "  rows = csv.reader(f, delimiter=\",\")\n",
        "  contacts_list = list(rows)\n",
        "pprint(contacts_list)\n",
        "\n",
        "# TODO 1: выполните пункты 1-3 ДЗ\n",
        "# ваш код\n"
      ]
    },
    {
      "cell_type": "code",
      "execution_count": 187,
      "id": "6b04b275",
      "metadata": {
        "id": "6b04b275"
      },
      "outputs": [],
      "source": [
        "init_first_name = [row[0] for row in contacts_list] # получение данных в графах ФИО\n",
        "init_second_name = [row[1] for row in contacts_list]\n",
        "init_third_name = [row[2] for row in contacts_list]\n",
        "\n",
        "first_name = []\n",
        "second_name = []\n",
        "third_name = []\n",
        "\n",
        "# получение единой строки с ФИО и раскидывание по массивам с Ф, И и О.\n",
        "for i in range(len(init_first_name)):\n",
        "    full_name = init_first_name[i] +  ' ' + init_second_name[i]+ ' ' + init_third_name[i]\n",
        "\n",
        "    full_name_arr =  full_name.split(' ')\n",
        "    first_name.append(full_name_arr[0])\n",
        "    second_name.append(full_name_arr[1])\n",
        "    third_name.append(full_name_arr[2])"
      ]
    },
    {
      "cell_type": "code",
      "execution_count": 188,
      "id": "cc67aaf9",
      "metadata": {
        "id": "cc67aaf9"
      },
      "outputs": [],
      "source": [
        "for i in range(len(first_name)):\n",
        "    contacts_list[i][0] = first_name[i]\n",
        "    contacts_list[i][1] = second_name[i]\n",
        "    contacts_list[i][2] = third_name[i]\n"
      ]
    },
    {
      "cell_type": "code",
      "execution_count": 189,
      "id": "866cc2a6",
      "metadata": {
        "id": "866cc2a6",
        "outputId": "09fd45e0-f942-42f6-ff5e-20da5c6e645d",
        "colab": {
          "base_uri": "https://localhost:8080/"
        }
      },
      "outputs": [
        {
          "output_type": "stream",
          "name": "stdout",
          "text": [
            "[['lastname',\n",
            "  'firstname',\n",
            "  'surname',\n",
            "  'organization',\n",
            "  'position',\n",
            "  'phone',\n",
            "  'email'],\n",
            " ['Усольцев',\n",
            "  'Олег',\n",
            "  'Валентинович',\n",
            "  'ФНС',\n",
            "  'главный специалист – эксперт отдела взаимодействия с федеральными органами '\n",
            "  'власти Управления налогообложения имущества и доходов физических лиц',\n",
            "  '+7 (495) 913-04-78',\n",
            "  'opendata@nalog.ru'],\n",
            " ['Мартиняхин', 'Виталий', 'Геннадьевич', 'ФНС', '', '+74959130037', ''],\n",
            " ['Наркаев', 'Вячеслав', 'Рифхатович', 'ФНС', '', '8 495-913-0168', ''],\n",
            " ['Мартиняхин',\n",
            "  'Виталий',\n",
            "  'Геннадьевич',\n",
            "  'ФНС',\n",
            "  'cоветник отдела Интернет проектов Управления информационных технологий',\n",
            "  '',\n",
            "  ''],\n",
            " ['Лукина',\n",
            "  'Ольга',\n",
            "  '',\n",
            "  'Минфин',\n",
            "  '',\n",
            "  '+7 (495) 983-36-99 доб. 2926',\n",
            "  'Olga.Lukina@minfin.ru'],\n",
            " ['Паньшин',\n",
            "  'Алексей',\n",
            "  'Владимирович',\n",
            "  'Минфин',\n",
            "  '',\n",
            "  '8(495)748-49-73',\n",
            "  '1248@minfin.ru'],\n",
            " ['Лагунцов',\n",
            "  'Иван',\n",
            "  'Алексеевич',\n",
            "  'Минфин',\n",
            "  '',\n",
            "  '+7 (495) 913-11-11 (доб. 0792)',\n",
            "  ''],\n",
            " ['Лагунцов', 'Иван', '', '', '', '', 'Ivan.Laguntcov@minfin.ru'],\n",
            " ['Лукина',\n",
            "  'Оксана',\n",
            "  'Владимировна',\n",
            "  'Минфин',\n",
            "  '',\n",
            "  '+7 (495) 983-36-99 доб. 2929',\n",
            "  'OLukina@minfin.ru']]\n"
          ]
        }
      ],
      "source": [
        "pprint (contacts_list)"
      ]
    },
    {
      "cell_type": "code",
      "execution_count": 190,
      "id": "9a7ce0a5",
      "metadata": {
        "id": "9a7ce0a5"
      },
      "outputs": [],
      "source": [
        "# TODO 2: сохраните получившиеся данные в другой файл\n",
        "# код для записи файла в формате CSV\n",
        "with open(\"phonebook.csv\", \"w\", encoding=\"utf-8\") as f:\n",
        "  datawriter = csv.writer(f, delimiter=',')\n",
        "  # Вместо contacts_list подставьте свой список\n",
        "  datawriter.writerows(contacts_list)"
      ]
    },
    {
      "cell_type": "code",
      "execution_count": 191,
      "id": "b5dbf4e9",
      "metadata": {
        "id": "b5dbf4e9",
        "outputId": "290a23c1-1c39-46fc-a919-146169f03ed9",
        "colab": {
          "base_uri": "https://localhost:8080/"
        }
      },
      "outputs": [
        {
          "output_type": "execute_result",
          "data": {
            "text/plain": [
              "[['lastname',\n",
              "  'firstname',\n",
              "  'surname',\n",
              "  'organization',\n",
              "  'position',\n",
              "  'phone',\n",
              "  'email'],\n",
              " ['Усольцев',\n",
              "  'Олег',\n",
              "  'Валентинович',\n",
              "  'ФНС',\n",
              "  'главный специалист – эксперт отдела взаимодействия с федеральными органами власти Управления налогообложения имущества и доходов физических лиц',\n",
              "  '+7 (495) 913-04-78',\n",
              "  'opendata@nalog.ru'],\n",
              " ['Мартиняхин', 'Виталий', 'Геннадьевич', 'ФНС', '', '+74959130037', ''],\n",
              " ['Наркаев', 'Вячеслав', 'Рифхатович', 'ФНС', '', '8 495-913-0168', ''],\n",
              " ['Мартиняхин',\n",
              "  'Виталий',\n",
              "  'Геннадьевич',\n",
              "  'ФНС',\n",
              "  'cоветник отдела Интернет проектов Управления информационных технологий',\n",
              "  '',\n",
              "  ''],\n",
              " ['Лукина',\n",
              "  'Ольга',\n",
              "  '',\n",
              "  'Минфин',\n",
              "  '',\n",
              "  '+7 (495) 983-36-99 доб. 2926',\n",
              "  'Olga.Lukina@minfin.ru'],\n",
              " ['Паньшин',\n",
              "  'Алексей',\n",
              "  'Владимирович',\n",
              "  'Минфин',\n",
              "  '',\n",
              "  '8(495)748-49-73',\n",
              "  '1248@minfin.ru'],\n",
              " ['Лагунцов',\n",
              "  'Иван',\n",
              "  'Алексеевич',\n",
              "  'Минфин',\n",
              "  '',\n",
              "  '+7 (495) 913-11-11 (доб. 0792)',\n",
              "  ''],\n",
              " ['Лагунцов', 'Иван', '', '', '', '', 'Ivan.Laguntcov@minfin.ru'],\n",
              " ['Лукина',\n",
              "  'Оксана',\n",
              "  'Владимировна',\n",
              "  'Минфин',\n",
              "  '',\n",
              "  '+7 (495) 983-36-99 доб. 2929',\n",
              "  'OLukina@minfin.ru']]"
            ]
          },
          "metadata": {},
          "execution_count": 191
        }
      ],
      "source": [
        "contacts_list"
      ]
    },
    {
      "cell_type": "code",
      "execution_count": 192,
      "id": "8d93fa53",
      "metadata": {
        "id": "8d93fa53",
        "outputId": "1e608b63-8215-4634-be41-3321114cae37",
        "colab": {
          "base_uri": "https://localhost:8080/"
        }
      },
      "outputs": [
        {
          "output_type": "execute_result",
          "data": {
            "text/plain": [
              "['phone',\n",
              " '+7 (495) 913-04-78',\n",
              " '+74959130037',\n",
              " '8 495-913-0168',\n",
              " '',\n",
              " '+7 (495) 983-36-99 доб. 2926',\n",
              " '8(495)748-49-73',\n",
              " '+7 (495) 913-11-11 (доб. 0792)',\n",
              " '',\n",
              " '+7 (495) 983-36-99 доб. 2929']"
            ]
          },
          "metadata": {},
          "execution_count": 192
        }
      ],
      "source": [
        "phones = [row[5] for row in contacts_list]\n",
        "phones"
      ]
    },
    {
      "cell_type": "code",
      "execution_count": 193,
      "id": "165892da",
      "metadata": {
        "id": "165892da",
        "outputId": "3f4b4ebf-c7bf-437b-e7a2-2d43a395ed36",
        "colab": {
          "base_uri": "https://localhost:8080/"
        }
      },
      "outputs": [
        {
          "output_type": "stream",
          "name": "stdout",
          "text": [
            "['phone', '+7(495)913-04-78', '+7(495)913-00-37', '+7(495)913-01-68', '', '+7(495)983-36-99 доб.2926', '+7(495)748-49-73', '+7(495)913-11-11 доб.0792', '', '+7(495)983-36-99 доб.2929']\n"
          ]
        }
      ],
      "source": [
        "import re\n",
        "\n",
        "new_phones =[]\n",
        "add_num =[]\n",
        "#замена шаблона\n",
        "for i in range(len(phones)):\n",
        "    # преобразование номеров\n",
        "    data_num =re.sub(r'(\\+7|8)?[-\\s]*(\\()?(\\d{3})(\\))?[-\\s]*(\\d{3})[-\\s]*(\\d{2})[-\\s]*(\\d{2})',\n",
        "            r'+7(\\3)\\5-\\6-\\7',\n",
        "            phones[i])\n",
        "    # преобразование доп. номеров.\n",
        "    data_num =re.sub(r'[(]*доб\\. (\\d{4})[)]*', r'доб.\\1',data_num)\n",
        "    new_phones.append(data_num)\n",
        "\n",
        "print( new_phones)"
      ]
    },
    {
      "cell_type": "code",
      "execution_count": 194,
      "id": "18758cc3",
      "metadata": {
        "id": "18758cc3",
        "outputId": "e12661ef-33e8-4ef8-ca94-c68c49d1afe0",
        "colab": {
          "base_uri": "https://localhost:8080/"
        }
      },
      "outputs": [
        {
          "output_type": "stream",
          "name": "stdout",
          "text": [
            "[['lastname',\n",
            "  'firstname',\n",
            "  'surname',\n",
            "  'organization',\n",
            "  'position',\n",
            "  'phone',\n",
            "  'email'],\n",
            " ['Усольцев',\n",
            "  'Олег',\n",
            "  'Валентинович',\n",
            "  'ФНС',\n",
            "  'главный специалист – эксперт отдела взаимодействия с федеральными органами '\n",
            "  'власти Управления налогообложения имущества и доходов физических лиц',\n",
            "  '+7(495)913-04-78',\n",
            "  'opendata@nalog.ru'],\n",
            " ['Мартиняхин', 'Виталий', 'Геннадьевич', 'ФНС', '', '+7(495)913-00-37', ''],\n",
            " ['Наркаев', 'Вячеслав', 'Рифхатович', 'ФНС', '', '+7(495)913-01-68', ''],\n",
            " ['Мартиняхин',\n",
            "  'Виталий',\n",
            "  'Геннадьевич',\n",
            "  'ФНС',\n",
            "  'cоветник отдела Интернет проектов Управления информационных технологий',\n",
            "  '',\n",
            "  ''],\n",
            " ['Лукина',\n",
            "  'Ольга',\n",
            "  '',\n",
            "  'Минфин',\n",
            "  '',\n",
            "  '+7(495)983-36-99 доб.2926',\n",
            "  'Olga.Lukina@minfin.ru'],\n",
            " ['Паньшин',\n",
            "  'Алексей',\n",
            "  'Владимирович',\n",
            "  'Минфин',\n",
            "  '',\n",
            "  '+7(495)748-49-73',\n",
            "  '1248@minfin.ru'],\n",
            " ['Лагунцов',\n",
            "  'Иван',\n",
            "  'Алексеевич',\n",
            "  'Минфин',\n",
            "  '',\n",
            "  '+7(495)913-11-11 доб.0792',\n",
            "  ''],\n",
            " ['Лагунцов', 'Иван', '', '', '', '', 'Ivan.Laguntcov@minfin.ru'],\n",
            " ['Лукина',\n",
            "  'Оксана',\n",
            "  'Владимировна',\n",
            "  'Минфин',\n",
            "  '',\n",
            "  '+7(495)983-36-99 доб.2929',\n",
            "  'OLukina@minfin.ru']]\n"
          ]
        }
      ],
      "source": [
        "for i in range(len(new_phones)):\n",
        "    contacts_list[i][5] = new_phones[i]\n",
        "pprint(contacts_list)"
      ]
    },
    {
      "cell_type": "markdown",
      "id": "651cfba5",
      "metadata": {
        "id": "651cfba5"
      },
      "source": [
        "Объединить все дублирующиеся записи о человеке в одну. Подсказка: группируйте записи по ФИО (если будет сложно, допускается группировать только по ФИ)."
      ]
    },
    {
      "cell_type": "code",
      "source": [
        "# сначала будут описаны методы, затем решение на основании этих методов."
      ],
      "metadata": {
        "id": "7iInZIgWkxSe"
      },
      "id": "7iInZIgWkxSe",
      "execution_count": 195,
      "outputs": []
    },
    {
      "cell_type": "code",
      "source": [
        "# добавление еще столбца содержащего строку с фамилией и именем\n",
        "f_s_name = [] #  листа для получения фамилий и именд дубликатов\n",
        "\n",
        "for i in range(len(contacts_list)):\n",
        "  contacts_list[i].append(contacts_list[i][0]+ ' '+ contacts_list[i][1])\n",
        "  f_s_name.append(contacts_list[i][0]+ ' '+ contacts_list[i][1])\n",
        "pprint(f_s_name)"
      ],
      "metadata": {
        "id": "ozZpanhgLq_0",
        "colab": {
          "base_uri": "https://localhost:8080/"
        },
        "outputId": "f5c777d0-959c-4f47-843d-5ba4a6d72913"
      },
      "id": "ozZpanhgLq_0",
      "execution_count": 196,
      "outputs": [
        {
          "output_type": "stream",
          "name": "stdout",
          "text": [
            "['lastname firstname',\n",
            " 'Усольцев Олег',\n",
            " 'Мартиняхин Виталий',\n",
            " 'Наркаев Вячеслав',\n",
            " 'Мартиняхин Виталий',\n",
            " 'Лукина Ольга',\n",
            " 'Паньшин Алексей',\n",
            " 'Лагунцов Иван',\n",
            " 'Лагунцов Иван',\n",
            " 'Лукина Оксана']\n"
          ]
        }
      ]
    },
    {
      "cell_type": "code",
      "execution_count": 197,
      "id": "49715243",
      "metadata": {
        "id": "49715243"
      },
      "outputs": [],
      "source": [
        "# метод возвращает list с  фамилией и именем одинаковых людей.\n",
        "def get_duplicates_name(lst):\n",
        "    seen = set()\n",
        "    duplicates = set()\n",
        "    for item in lst:\n",
        "        if item in seen:\n",
        "            duplicates.add(item)\n",
        "        else:\n",
        "            seen.add(item)\n",
        "    return list(duplicates)"
      ]
    },
    {
      "cell_type": "code",
      "source": [
        "# метод получает ряды из contacts_list с одинаковыми фамилиями и именами\n",
        "def get_dupl_rows(lst,key):\n",
        "\n",
        "  out =[]\n",
        "  for i in range(len(lst)):\n",
        "    if key == lst[i][len(lst[0])-1]:\n",
        "      out.append(lst[i])\n",
        "  return out"
      ],
      "metadata": {
        "id": "bzoBBnDgN3dj"
      },
      "id": "bzoBBnDgN3dj",
      "execution_count": 198,
      "outputs": []
    },
    {
      "cell_type": "code",
      "source": [
        "# метод соединяет строки с одинаковыми именами и фамилиями\n",
        "def merge_data(lst):\n",
        "  mer_dat = []\n",
        "  for i in range(len(lst[0])):\n",
        "    if lst[0][i] == lst[1][i]:\n",
        "      mer_dat.append(lst[0][i])\n",
        "    else:\n",
        "      mer_dat.append(lst[0][i] + lst[1][i])\n",
        "  return mer_dat\n"
      ],
      "metadata": {
        "id": "W_qI0wGJRKmO"
      },
      "id": "W_qI0wGJRKmO",
      "execution_count": 199,
      "outputs": []
    },
    {
      "cell_type": "code",
      "source": [
        "# метод удаляет дубликаты по ключу - фамилии и имени\n",
        "def delete_row(key, lst):\n",
        "  new_lst =[]\n",
        "  for i in range(len(lst)):\n",
        "    if key!= lst[i][len(lst[0])-1]:\n",
        "      new_lst.append(lst[i])\n",
        "\n",
        "  return new_lst"
      ],
      "metadata": {
        "id": "ZriHAAERMA4j"
      },
      "id": "ZriHAAERMA4j",
      "execution_count": 200,
      "outputs": []
    },
    {
      "cell_type": "code",
      "source": [
        "# метод удаляет последний толбец\n",
        "def delete_last_column(lst):\n",
        "  out =[]\n",
        "  for i in range(len(lst)):\n",
        "    for j in range(len(lst[0])-1):\n",
        "      out.append(lst[i][j])\n",
        "  return out"
      ],
      "metadata": {
        "id": "AVQqpS1Hh7ZL"
      },
      "id": "AVQqpS1Hh7ZL",
      "execution_count": 201,
      "outputs": []
    },
    {
      "cell_type": "code",
      "source": [
        "dupl_f_s_name = get_duplicates(f_s_name)\n",
        "dupl_f_s_name"
      ],
      "metadata": {
        "colab": {
          "base_uri": "https://localhost:8080/"
        },
        "id": "bF_gaXaDlpMA",
        "outputId": "c3435435-ccf7-4577-d243-4e9e04c4d8e8"
      },
      "id": "bF_gaXaDlpMA",
      "execution_count": 202,
      "outputs": [
        {
          "output_type": "execute_result",
          "data": {
            "text/plain": [
              "['Мартиняхин Виталий', 'Лагунцов Иван']"
            ]
          },
          "metadata": {},
          "execution_count": 202
        }
      ]
    },
    {
      "cell_type": "code",
      "source": [
        "for dupl_name in dupl_f_s_name:\n",
        "  dupl_rows = get_dupl_rows(contacts_list, dupl_name) # получение данных дублированных данных\n",
        "  single_row = merge_data(dupl_rows) # смержживание\n",
        "  contacts_list = delete_row(dupl_name, contacts_list) # удаление дубликатов\n",
        "  contacts_list.append(single_row) # добавление смерженных данных\n",
        "\n",
        "contacts_list = delete_last_column(contacts_list)"
      ],
      "metadata": {
        "id": "i5axOebWnJvg"
      },
      "id": "i5axOebWnJvg",
      "execution_count": 203,
      "outputs": []
    },
    {
      "cell_type": "code",
      "source": [
        "pprint(contacts_list)"
      ],
      "metadata": {
        "colab": {
          "base_uri": "https://localhost:8080/"
        },
        "id": "yCBxNHeOpXVK",
        "outputId": "81a4a0d5-f500-49e0-d1bc-990a1406f7ec"
      },
      "id": "yCBxNHeOpXVK",
      "execution_count": 206,
      "outputs": [
        {
          "output_type": "stream",
          "name": "stdout",
          "text": [
            "['lastname',\n",
            " 'firstname',\n",
            " 'surname',\n",
            " 'organization',\n",
            " 'position',\n",
            " 'phone',\n",
            " 'email',\n",
            " 'Усольцев',\n",
            " 'Олег',\n",
            " 'Валентинович',\n",
            " 'ФНС',\n",
            " 'главный специалист – эксперт отдела взаимодействия с федеральными органами '\n",
            " 'власти Управления налогообложения имущества и доходов физических лиц',\n",
            " '+7(495)913-04-78',\n",
            " 'opendata@nalog.ru',\n",
            " 'Наркаев',\n",
            " 'Вячеслав',\n",
            " 'Рифхатович',\n",
            " 'ФНС',\n",
            " '',\n",
            " '+7(495)913-01-68',\n",
            " '',\n",
            " 'Лукина',\n",
            " 'Ольга',\n",
            " '',\n",
            " 'Минфин',\n",
            " '',\n",
            " '+7(495)983-36-99 доб.2926',\n",
            " 'Olga.Lukina@minfin.ru',\n",
            " 'Паньшин',\n",
            " 'Алексей',\n",
            " 'Владимирович',\n",
            " 'Минфин',\n",
            " '',\n",
            " '+7(495)748-49-73',\n",
            " '1248@minfin.ru',\n",
            " 'Лукина',\n",
            " 'Оксана',\n",
            " 'Владимировна',\n",
            " 'Минфин',\n",
            " '',\n",
            " '+7(495)983-36-99 доб.2929',\n",
            " 'OLukina@minfin.ru',\n",
            " 'Мартиняхин',\n",
            " 'Виталий',\n",
            " 'Геннадьевич',\n",
            " 'ФНС',\n",
            " 'cоветник отдела Интернет проектов Управления информационных технологий',\n",
            " '+7(495)913-00-37',\n",
            " '',\n",
            " 'Лагунцов',\n",
            " 'Иван',\n",
            " 'Алексеевич',\n",
            " 'Минфин',\n",
            " '',\n",
            " '+7(495)913-11-11 доб.0792',\n",
            " 'Ivan.Laguntcov@minfin.ru']\n"
          ]
        }
      ]
    }
  ],
  "metadata": {
    "kernelspec": {
      "display_name": "Python 3 (ipykernel)",
      "language": "python",
      "name": "python3"
    },
    "language_info": {
      "codemirror_mode": {
        "name": "ipython",
        "version": 3
      },
      "file_extension": ".py",
      "mimetype": "text/x-python",
      "name": "python",
      "nbconvert_exporter": "python",
      "pygments_lexer": "ipython3",
      "version": "3.11.5"
    },
    "colab": {
      "provenance": []
    }
  },
  "nbformat": 4,
  "nbformat_minor": 5
}